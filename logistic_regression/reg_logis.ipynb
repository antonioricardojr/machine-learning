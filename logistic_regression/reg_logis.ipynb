{
 "cells": [
  {
   "cell_type": "code",
   "execution_count": null,
   "metadata": {},
   "outputs": [],
   "source": [
    "import numpy as np\n",
    "import math\n",
    "import time\n",
    "import matplotlib.pyplot as plt\n",
    "from sklearn import linear_model\n",
    "import scipy.stats as st"
   ]
  },
  {
   "cell_type": "markdown",
   "metadata": {},
   "source": [
    "## Mean Squared Error\n",
    "$MSE(\\hat{w})=\\frac{1}{N}(y-\\hat{\\mathbf{w}}^T\\mathbf{x})^T(y-\\hat{\\mathbf{w}}^T\\mathbf{x})$"
   ]
  },
  {
   "cell_type": "code",
   "execution_count": 12,
   "metadata": {
    "collapsed": true
   },
   "outputs": [],
   "source": [
    "def compute_mse_vectorized(w,X,Y):\n",
    "    '''This function returns de MSE for a given dataset and coefficients'''\n",
    "    res = Y - np.dot(X,w)\n",
    "    totalError = np.dot(res.T,res)\n",
    "    return totalError / float(len(Y))"
   ]
  },
  {
   "cell_type": "markdown",
   "metadata": {},
   "source": [
    "## Regressão Logística Vetorizada"
   ]
  },
  {
   "cell_type": "code",
   "execution_count": 1,
   "metadata": {
    "collapsed": true
   },
   "outputs": [],
   "source": [
    "def step_gradient_vectorized(w_current, X, Y, alpha):\n",
    "    '''This function calculates the step gradient using alpha value as stepsize.'''\n",
    "    w = w_current\n",
    "    # valores previstos com o vetor de coeficientes atual\n",
    "    Y_pred = np.dot(X, w)\n",
    "    res = np.subtract(Y, Y_pred)  # resíduos entre Y observados e Y previstos\n",
    "    gradient_rss = -2 * np.dot(X.T, res)  # vetor de derivadas parciais\n",
    "    new_w = np.add(w, alpha * (gradient_rss))\n",
    "    return [new_w, gradient_rss]"
   ]
  },
  {
   "cell_type": "code",
   "execution_count": 15,
   "metadata": {
    "collapsed": true
   },
   "outputs": [],
   "source": [
    "def gradient_ascent_runner_vectorized(starting_w, X, Y, learning_rate, epsilon):\n",
    "    '''This function returns the coefficients' vector'''\n",
    "    w = starting_w\n",
    "    grad = np.array([0, 0, 0, 0])\n",
    "    i = 0\n",
    "    while(np.linalg.norm(grad) <= epsilon):\n",
    "        w, grad = step_gradient_vectorized(w, X, Y, learning_rate)\n",
    "        if i % 100 == 0:\n",
    "            print(\"MSE na iteração {0} é de {1}\".format(i, compute_mse_vectorized(w, X, Y)))\n",
    "            print(\"grad norm: {0}\".format(np.linalg.norm(grad)))\n",
    "        i += 1\n",
    "    return w"
   ]
  },
  {
   "cell_type": "code",
   "execution_count": 6,
   "metadata": {},
   "outputs": [],
   "source": [
    "points = np.genfromtxt(\"../data/iris.csv\", delimiter=\",\", dtype=\"str\")\n",
    "points = points[1:]"
   ]
  },
  {
   "cell_type": "code",
   "execution_count": 7,
   "metadata": {
    "collapsed": true
   },
   "outputs": [],
   "source": [
    "def predict(Y):\n",
    "    '''It sets the classes's values to 0 or 1 integers'''\n",
    "    levels = np.unique(Y)\n",
    "    resp = np.where(Y == levels[0],0,1)\n",
    "    return resp"
   ]
  },
  {
   "cell_type": "code",
   "execution_count": 9,
   "metadata": {
    "collapsed": true
   },
   "outputs": [],
   "source": [
    "X = points[:,[0,1,2,3]].astype(\"float\")\n",
    "Y = predict(points[:,[4]])"
   ]
  },
  {
   "cell_type": "code",
   "execution_count": 10,
   "metadata": {},
   "outputs": [],
   "source": [
    "num_coeficients = X.shape[1]\n",
    "init_w = np.zeros((num_coeficients,1))\n",
    "\n",
    "learning_rate = 0.0000001\n",
    "epsilon = 50000"
   ]
  },
  {
   "cell_type": "code",
   "execution_count": 16,
   "metadata": {},
   "outputs": [
    {
     "name": "stdout",
     "output_type": "stream",
     "text": [
      "MSE na iteração 0 é de [[ 0.67313843]]\n",
      "grad norm: 1724.3994896774934\n",
      "MSE na iteração 100 é de [[ 0.91459236]]\n",
      "grad norm: 2069.263633011327\n",
      "MSE na iteração 200 é de [[ 1.26239198]]\n",
      "grad norm: 2483.798415595421\n",
      "MSE na iteração 300 é de [[ 1.76361148]]\n",
      "grad norm: 2981.969000550983\n",
      "MSE na iteração 400 é de [[ 2.48616545]]\n",
      "grad norm: 3580.5566690455657\n",
      "MSE na iteração 500 é de [[ 3.52803532]]\n",
      "grad norm: 4299.724175500783\n",
      "MSE na iteração 600 é de [[ 5.03058044]]\n",
      "grad norm: 5163.694942609583\n",
      "MSE na iteração 700 é de [[ 7.1977422]]\n",
      "grad norm: 6201.568987356782\n",
      "MSE na iteração 800 é de [[ 10.32375012]]\n",
      "grad norm: 7448.303068342837\n",
      "MSE na iteração 900 é de [[ 14.8330939]]\n",
      "grad norm: 8945.88807197932\n",
      "MSE na iteração 1000 é de [[ 21.3381918]]\n",
      "grad norm: 10744.763295823219\n",
      "MSE na iteração 1100 é de [[ 30.72258964]]\n",
      "grad norm: 12905.515264555153\n",
      "MSE na iteração 1200 é de [[ 44.26099355]]\n",
      "grad norm: 15500.918296219184\n",
      "MSE na iteração 1300 é de [[ 63.79244307]]\n",
      "grad norm: 18618.38554584991\n",
      "MSE na iteração 1400 é de [[ 91.97015086]]\n",
      "grad norm: 22362.913078029713\n",
      "MSE na iteração 1500 é de [[ 132.62195069]]\n",
      "grad norm: 26860.616124774777\n",
      "MSE na iteração 1600 é de [[ 191.27032158]]\n",
      "grad norm: 32262.976629645098\n",
      "MSE na iteração 1700 é de [[ 275.88263536]]\n",
      "grad norm: 38751.945134809415\n",
      "MSE na iteração 1800 é de [[ 397.95355117]]\n",
      "grad norm: 46546.06884178223\n",
      "time: 0.1300039291381836\n"
     ]
    }
   ],
   "source": [
    "start_grad_asc_runner_time = time.time()\n",
    "w = gradient_ascent_runner_vectorized(init_w, X, Y, learning_rate, epsilon)\n",
    "end_grad_asc_runner_time = time.time()\n",
    "print('time: {0}'.format(end_grad_asc_runner_time - start_grad_asc_runner_time))"
   ]
  },
  {
   "cell_type": "code",
   "execution_count": 17,
   "metadata": {},
   "outputs": [
    {
     "name": "stdout",
     "output_type": "stream",
     "text": [
      "Coefficients: \n",
      " [[-1.97584185]\n",
      " [-0.98612406]\n",
      " [-1.37748492]\n",
      " [-0.45383154]]\n"
     ]
    }
   ],
   "source": [
    "# The coefficients\n",
    "print('Coefficients: \\n', w)"
   ]
  },
  {
   "cell_type": "markdown",
   "metadata": {},
   "source": [
    "## Regressão Logística com sklearn"
   ]
  },
  {
   "cell_type": "code",
   "execution_count": 28,
   "metadata": {
    "scrolled": true
   },
   "outputs": [
    {
     "name": "stdout",
     "output_type": "stream",
     "text": [
      "time: 0.0014178752899169922\n",
      "Coefficients: \n",
      " [[-0.41359992]\n",
      " [-1.4579924 ]\n",
      " [ 2.25863103]\n",
      " [ 1.02753661]]\n"
     ]
    },
    {
     "name": "stderr",
     "output_type": "stream",
     "text": [
      "/Library/Frameworks/Python.framework/Versions/3.5/lib/python3.5/site-packages/sklearn/utils/validation.py:547: DataConversionWarning: A column-vector y was passed when a 1d array was expected. Please change the shape of y to (n_samples, ), for example using ravel().\n",
      "  y = column_or_1d(y, warn=True)\n"
     ]
    }
   ],
   "source": [
    "start_sklearn_reg = time.time()\n",
    "# Create linear regression object\n",
    "regr = linear_model.LogisticRegression()\n",
    "# Train the model using the training sets\n",
    "regr.fit(X, Y)\n",
    "end_sklearn_reg = time.time()\n",
    "print('time: {0}'.format(end_sklearn_reg - start_sklearn_reg))\n",
    "# The coefficients\n",
    "print('Coefficients: \\n', regr.coef_.T)"
   ]
  },
  {
   "cell_type": "code",
   "execution_count": null,
   "metadata": {
    "collapsed": true
   },
   "outputs": [],
   "source": [
    "###Comparando os Coeficientes"
   ]
  },
  {
   "cell_type": "markdown",
   "metadata": {},
   "source": [
    "Comparando os coeficientes aprendidos em ambas as abordagens, é possível perceber que os vetores \n",
    "são formados por valores baixos, não apresentando problema de altos coeficientes. Entretanto, \n",
    "os coeficientes w2 e w3 do sklearn apresentam valores positivos, enquanto que o da solução implementada\n",
    "possui valores negativos. "
   ]
  }
 ],
 "metadata": {
  "kernelspec": {
   "display_name": "Python 3",
   "language": "python",
   "name": "python3"
  },
  "language_info": {
   "codemirror_mode": {
    "name": "ipython",
    "version": 3
   },
   "file_extension": ".py",
   "mimetype": "text/x-python",
   "name": "python",
   "nbconvert_exporter": "python",
   "pygments_lexer": "ipython3",
   "version": "3.5.0"
  }
 },
 "nbformat": 4,
 "nbformat_minor": 2
}
