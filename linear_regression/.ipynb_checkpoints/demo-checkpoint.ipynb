{
 "cells": [
  {
   "cell_type": "code",
   "execution_count": 1,
   "metadata": {
    "collapsed": true
   },
   "outputs": [],
   "source": [
    "from numpy import *"
   ]
  },
  {
   "cell_type": "code",
   "execution_count": 2,
   "metadata": {
    "collapsed": true
   },
   "outputs": [],
   "source": [
    "def step_gradient(b_current, m_current, points, learning_rate):\n",
    "\tb_gradient = 0\n",
    "\tm_gradient = 0\n",
    "\tN = float(len(points))\n",
    "\n",
    "\tfor i in range(0, len(points)):\n",
    "\t\tx = points[i, 0]\n",
    "\t\ty = points[i, 1]\n",
    "\n",
    "\t\tb_gradient = -(2/N) * (y - ((m_current * x) + b_current))\n",
    "\t\tm_gradient = -(2/N) * x * (y - ((m_current * x) + b_current))\n",
    "\n",
    "\tnew_b = b_current - (learning_rate * b_gradient)\n",
    "\tnew_m = m_current - (learning_rate * m_gradient)\n",
    "\n",
    "\treturn [new_b, new_m]"
   ]
  },
  {
   "cell_type": "code",
   "execution_count": 3,
   "metadata": {
    "collapsed": true
   },
   "outputs": [],
   "source": [
    "def compute_error_for_line_given_points(b, m, points):\n",
    "\ttotal_error = 0\n",
    "\tfor i in range(0,len(points)):\n",
    "\t\tx = points[i, 0]\n",
    "\t\ty = points[i, 1]\n",
    "\t\ttotal_error += (y - (m*x + b)) **2\n",
    "\n",
    "\treturn total_error / float(len(points))"
   ]
  },
  {
   "cell_type": "code",
   "execution_count": 4,
   "metadata": {
    "collapsed": true
   },
   "outputs": [],
   "source": [
    "def gradient_descent_runner(points, starting_b, starting_m, learning_rate, num_iterations):\n",
    "\tb = starting_b\n",
    "\tm = starting_m\n",
    "\n",
    "\tfor i in range(num_iterations):\n",
    "\t\tb, m = step_gradient(b, m, array(points), learning_rate)\n",
    "\treturn [b, m]"
   ]
  },
  {
   "cell_type": "code",
   "execution_count": 11,
   "metadata": {},
   "outputs": [],
   "source": [
    "def run():\n",
    "    points = genfromtxt('./data/data.csv', delimiter = ',')\n",
    "\n",
    "    #hyperparameters\n",
    "    learning_rate = 0.0001\n",
    "    #y = mx + b (slope formula)\n",
    "\n",
    "    initial_b = 0 #initial y-intercept guess\n",
    "    initial_m = 0 #initial slope guess\n",
    "    num_iterations = 10000\n",
    "    print(\"Starting gradient descent at b = {0}, m = {1}, error = {2}\".format(initial_b, initial_m, compute_error_for_line_given_points(initial_b, initial_m, points)))\n",
    "    print(\"Running...\")\n",
    "    [b, m] = gradient_descent_runner(points, initial_b, initial_m, learning_rate, num_iterations)\n",
    "    print(\"After {0} iterations b = {1}, m = {2}, error = {3}\".format(num_iterations, b, m, compute_error_for_line_given_points(b, m, points)))\n"
   ]
  },
  {
   "cell_type": "code",
   "execution_count": 12,
   "metadata": {},
   "outputs": [
    {
     "name": "stdout",
     "output_type": "stream",
     "text": [
      "Starting gradient descent at b = 0, m = 0, error = 5565.107834483211\n",
      "Running...\n",
      "After 1000 iterations b = 0.060681971799628164, m = 1.5248459967635082, error = 118.029122441144\n"
     ]
    }
   ],
   "source": [
    "run()"
   ]
  }
 ],
 "metadata": {
  "kernelspec": {
   "display_name": "Python 3",
   "language": "python",
   "name": "python3"
  },
  "language_info": {
   "codemirror_mode": {
    "name": "ipython",
    "version": 3
   },
   "file_extension": ".py",
   "mimetype": "text/x-python",
   "name": "python",
   "nbconvert_exporter": "python",
   "pygments_lexer": "ipython3",
   "version": "3.5.0"
  }
 },
 "nbformat": 4,
 "nbformat_minor": 2
}
